{
 "cells": [
  {
   "metadata": {
    "ExecuteTime": {
     "end_time": "2025-08-31T15:36:01.834023Z",
     "start_time": "2025-08-31T15:36:01.376447Z"
    }
   },
   "cell_type": "code",
   "source": [
    "import numpy as np\n",
    "import cv2 as cv"
   ],
   "id": "d4754e642f86f25c",
   "outputs": [],
   "execution_count": 1
  },
  {
   "metadata": {
    "ExecuteTime": {
     "end_time": "2025-08-31T15:36:01.843017Z",
     "start_time": "2025-08-31T15:36:01.836032Z"
    }
   },
   "cell_type": "code",
   "source": [
    "def rescaleFrame(frame, scale=0.75):\n",
    "    width = int(frame.shape[1]*scale)\n",
    "    height = int(frame.shape[0]*scale)\n",
    "    \n",
    "    dimensions = (width, height)\n",
    "    \n",
    "    return cv.resize(frame, dimensions, interpolation=cv.INTER_AREA)"
   ],
   "id": "a7d11c1529d4fba7",
   "outputs": [],
   "execution_count": 2
  },
  {
   "metadata": {
    "ExecuteTime": {
     "end_time": "2025-08-31T15:36:39.516149Z",
     "start_time": "2025-08-31T15:36:01.845027Z"
    }
   },
   "cell_type": "code",
   "source": [
    "img_raw = cv.imread('Raw Data/chess_board_one.png')\n",
    "\n",
    "resized_img = rescaleFrame(img_raw)\n",
    "cv.imshow('Lichess', resized_img)\n",
    "\n",
    "cv.waitKey(0)"
   ],
   "id": "beea526f9b801833",
   "outputs": [
    {
     "data": {
      "text/plain": [
       "-1"
      ]
     },
     "execution_count": 3,
     "metadata": {},
     "output_type": "execute_result"
    }
   ],
   "execution_count": 3
  },
  {
   "metadata": {
    "ExecuteTime": {
     "end_time": "2025-08-31T16:15:29.006520Z",
     "start_time": "2025-08-31T16:15:11.526Z"
    }
   },
   "cell_type": "code",
   "source": [
    "def find_chessboard_corners(img):\n",
    "    img_with_contour = img.copy()\n",
    "    gray = cv.cvtColor(img, cv.COLOR_BGR2GRAY)\n",
    "    blur = cv.GaussianBlur(gray, (5, 5), 0)\n",
    "    edges = cv.Canny(blur, 50, 150)\n",
    "    contours, _ = cv.findContours(edges, cv.RETR_EXTERNAL, cv.CHAIN_APPROX_SIMPLE)\n",
    "\n",
    "    if len(contours) > 0:\n",
    "        largest_contour = max(contours, key=cv.contourArea)\n",
    "        perimeter = cv.arcLength(largest_contour, True)\n",
    "        approx = cv.approxPolyDP(largest_contour, 0.02 * perimeter, True)\n",
    "        if len(approx) == 4:\n",
    "            print(\"Found chessboard corners!\")\n",
    "            corners = approx.reshape(4, 2)\n",
    "            print(\"Corner Coordinates:\\n\", corners)\n",
    "            cv.drawContours(img_with_contour, [approx], -1, (0, 255, 0), 1)\n",
    "\n",
    "            # Display the result\n",
    "            cv.imshow('Original Image', img)\n",
    "            cv.imshow('Edges', edges)\n",
    "            cv.imshow('Chessboard Contour', img_with_contour)\n",
    "            cv.waitKey(0)\n",
    "            cv.destroyAllWindows()\n",
    "        else:\n",
    "            print(\"Could not find a 4-sided contour. Found {} points.\".format(len(approx)))\n",
    "    else:\n",
    "        print(\"No contours found.\")\n",
    "\n",
    "find_chessboard_corners(resized_img)"
   ],
   "id": "aef4ae05e5455979",
   "outputs": [
    {
     "name": "stdout",
     "output_type": "stream",
     "text": [
      "Found chessboard corners!\n",
      "Corner Coordinates:\n",
      " [[442  62]\n",
      " [441 574]\n",
      " [953 577]\n",
      " [956  64]]\n"
     ]
    }
   ],
   "execution_count": 5
  },
  {
   "metadata": {},
   "cell_type": "code",
   "outputs": [],
   "execution_count": null,
   "source": "",
   "id": "a18c59208c4e1976"
  }
 ],
 "metadata": {
  "kernelspec": {
   "display_name": "Python 3",
   "language": "python",
   "name": "python3"
  },
  "language_info": {
   "codemirror_mode": {
    "name": "ipython",
    "version": 2
   },
   "file_extension": ".py",
   "mimetype": "text/x-python",
   "name": "python",
   "nbconvert_exporter": "python",
   "pygments_lexer": "ipython2",
   "version": "2.7.6"
  }
 },
 "nbformat": 4,
 "nbformat_minor": 5
}
