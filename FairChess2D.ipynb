{
 "cells": [
  {
   "metadata": {
    "ExecuteTime": {
     "end_time": "2025-09-09T17:43:56.223338Z",
     "start_time": "2025-09-09T17:43:56.213506Z"
    }
   },
   "cell_type": "code",
   "source": [
    "import numpy as np\n",
    "import cv2 as cv\n",
    "import os"
   ],
   "id": "d4754e642f86f25c",
   "outputs": [],
   "execution_count": 29
  },
  {
   "metadata": {
    "ExecuteTime": {
     "end_time": "2025-09-09T15:10:38.995632Z",
     "start_time": "2025-09-09T15:10:38.991118Z"
    }
   },
   "cell_type": "code",
   "source": [
    "def rescaleFrame(frame, scale=0.75):\n",
    "    width = int(frame.shape[1]*scale)\n",
    "    height = int(frame.shape[0]*scale)\n",
    "    \n",
    "    dimensions = (width, height)\n",
    "    \n",
    "    return cv.resize(frame, dimensions, interpolation=cv.INTER_AREA)"
   ],
   "id": "a7d11c1529d4fba7",
   "outputs": [],
   "execution_count": 24
  },
  {
   "metadata": {
    "ExecuteTime": {
     "end_time": "2025-09-09T17:44:50.179439Z",
     "start_time": "2025-09-09T17:43:59.328409Z"
    }
   },
   "cell_type": "code",
   "source": [
    "img_raw = cv.imread('Raw Data/chess_board_one.png')\n",
    "\n",
    "resized_img = rescaleFrame(img_raw)\n",
    "cv.imshow('Lichess', resized_img)\n",
    "\n",
    "cv.waitKey(0)"
   ],
   "id": "beea526f9b801833",
   "outputs": [
    {
     "data": {
      "text/plain": [
       "-1"
      ]
     },
     "execution_count": 30,
     "metadata": {},
     "output_type": "execute_result"
    }
   ],
   "execution_count": 30
  },
  {
   "metadata": {
    "ExecuteTime": {
     "end_time": "2025-09-09T15:10:45.891121Z",
     "start_time": "2025-09-09T15:10:42.121230Z"
    }
   },
   "cell_type": "code",
   "source": [
    "def find_chessboard_corners(img):\n",
    "    img_with_contour = img.copy()\n",
    "    gray = cv.cvtColor(img, cv.COLOR_BGR2GRAY)\n",
    "    blur = cv.GaussianBlur(gray, (5, 5), 0)\n",
    "    edges = cv.Canny(blur, 50, 150)\n",
    "    contours, _ = cv.findContours(edges, cv.RETR_EXTERNAL, cv.CHAIN_APPROX_SIMPLE)\n",
    "\n",
    "    # if len(contours) > 0:\n",
    "    largest_contour = max(contours, key=cv.contourArea)\n",
    "    \n",
    "        \n",
    "    points = largest_contour.reshape(len(largest_contour), 2)\n",
    "\n",
    "    # Create a new array to store the 4 corner points\n",
    "    rect = np.zeros((4, 2), dtype=\"float32\")\n",
    "\n",
    "    # The top-left point has the smallest sum, bottom-right has the largest\n",
    "    s = points.sum(axis=1)\n",
    "    rect[0] = points[np.argmin(s)] # Top-left\n",
    "    rect[2] = points[np.argmax(s)] # Bottom-right\n",
    "\n",
    "    # The top-right point has the largest difference, bottom-left has the smallest\n",
    "    diff = np.diff(points, axis=1)\n",
    "    rect[1] = points[np.argmin(diff)] # Top-right\n",
    "    rect[3] = points[np.argmax(diff)] # Bottom-left\n",
    "    \n",
    "    rect_int = np.int32(rect)\n",
    "    cv.drawContours(img_with_contour, [rect_int], -1, (0,255,3), 1)\n",
    "    \n",
    "    \n",
    "            # Display the result\n",
    "    cv.imshow('Original Image', img)\n",
    "    cv.imshow('Edges', edges)\n",
    "    cv.imshow('Chessboard Contour', img_with_contour)\n",
    "    cv.waitKey(0)\n",
    "    cv.destroyAllWindows()\n",
    "    return rect\n",
    "find_chessboard_corners(resized_img)"
   ],
   "id": "aef4ae05e5455979",
   "outputs": [
    {
     "data": {
      "text/plain": [
       "array([[442.,  62.],\n",
       "       [956.,  64.],\n",
       "       [953., 577.],\n",
       "       [441., 574.]], dtype=float32)"
      ]
     },
     "execution_count": 26,
     "metadata": {},
     "output_type": "execute_result"
    }
   ],
   "execution_count": 26
  },
  {
   "metadata": {
    "ExecuteTime": {
     "end_time": "2025-09-09T15:10:56.879139Z",
     "start_time": "2025-09-09T15:10:56.872037Z"
    }
   },
   "cell_type": "code",
   "source": [
    "def create_dataset_from_corners(original_image, rect, output_dir='dataset'):\n",
    "    \"\"\"\n",
    "    Warps the perspective of a chessboard using provided corners, crops each square, \n",
    "    and saves them into labeled folders.\n",
    "    \"\"\"\n",
    "    # Define the destination points for our 800x800 warped image\n",
    "    dst_points = np.array([\n",
    "        [0, 0], [799, 0], [799, 799], [0, 799]], dtype=\"float32\")\n",
    "\n",
    "    # Get the perspective transform matrix and apply it\n",
    "    M = cv.getPerspectiveTransform(rect, dst_points)\n",
    "    warped_board = cv.warpPerspective(original_image, M, (800, 800))\n",
    "    print(\"Board perspective transformed. Cropping and saving squares...\")\n",
    "\n",
    "    # Hardcoded map of the starting position\n",
    "    piece_map = [\n",
    "        ['br', 'bn', 'bb', 'bq', 'bk', 'bb', 'bn', 'br'],\n",
    "        ['bp', 'bp', 'bp', 'bp', 'bp', 'bp', 'bp', 'bp'],\n",
    "        ['e', 'e', 'e', 'e', 'e', 'e', 'e', 'e'], ['e', 'e', 'e', 'e', 'e', 'e', 'e', 'e'],\n",
    "        ['e', 'e', 'e', 'e', 'e', 'e', 'e', 'e'], ['e', 'e', 'e', 'e', 'e', 'e', 'e', 'e'],\n",
    "        ['wp', 'wp', 'wp', 'wp', 'wp', 'wp', 'wp', 'wp'],\n",
    "        ['wr', 'wn', 'wb', 'wq', 'wk', 'wb', 'wn', 'wr']\n",
    "    ]\n",
    "\n",
    "    square_size = 100\n",
    "    img_counts = {}\n",
    "\n",
    "    for row in range(8):\n",
    "        for col in range(8):\n",
    "            y1, y2 = row * square_size, (row + 1) * square_size\n",
    "            x1, x2 = col * square_size, (col + 1) * square_size\n",
    "            square_img = warped_board[y1:y2, x1:x2]\n",
    "            piece_label = piece_map[row][col]\n",
    "            \n",
    "            piece_dir = os.path.join(output_dir, piece_label)\n",
    "            os.makedirs(piece_dir, exist_ok=True)\n",
    "            \n",
    "            count = img_counts.get(piece_label, 0)\n",
    "            filename = f\"{piece_label}_{count}.png\"\n",
    "            filepath = os.path.join(piece_dir, filename)\n",
    "            \n",
    "            cv.imwrite(filepath, square_img)\n",
    "            img_counts[piece_label] = count + 1\n",
    "\n",
    "    print(f\"Dataset successfully created in the '{output_dir}' directory.\")\n",
    "    cv.imshow(\"Warped Chessboard for Verification\", warped_board)\n",
    "    cv.waitKey(0)\n",
    "    cv.destroyAllWindows()"
   ],
   "id": "a18c59208c4e1976",
   "outputs": [],
   "execution_count": 27
  },
  {
   "metadata": {
    "ExecuteTime": {
     "end_time": "2025-09-09T15:12:42.887375Z",
     "start_time": "2025-09-09T15:12:26.736408Z"
    }
   },
   "cell_type": "code",
   "source": [
    "# --- Main Script ---\n",
    "if __name__ == '__main__':\n",
    "    \n",
    "    # Assuming you resize it\n",
    "    # resized_img = cv.resize(original_img, (new_width, new_height))\n",
    "    # For now, let's just use the original\n",
    "\n",
    "    # Step 1: Get the corner coordinates from your function\n",
    "    board_corners = find_chessboard_corners(resized_img)\n",
    "    \n",
    "    # Step 2: If corners were found, pass them to the dataset creation function\n",
    "    if board_corners is not None:\n",
    "        print(\"Corners found. Proceeding to create dataset.\")\n",
    "        create_dataset_from_corners(resized_img, board_corners)\n",
    "    else:\n",
    "        print(\"Could not find chessboard corners.\")"
   ],
   "id": "f5dc71e5a9561153",
   "outputs": [
    {
     "name": "stdout",
     "output_type": "stream",
     "text": [
      "Corners found. Proceeding to create dataset.\n",
      "Board perspective transformed. Cropping and saving squares...\n",
      "Dataset successfully created in the 'dataset' directory.\n"
     ]
    }
   ],
   "execution_count": 28
  },
  {
   "metadata": {},
   "cell_type": "code",
   "outputs": [],
   "execution_count": null,
   "source": "",
   "id": "163d1986914e9766"
  }
 ],
 "metadata": {
  "kernelspec": {
   "display_name": "Python 3",
   "language": "python",
   "name": "python3"
  },
  "language_info": {
   "codemirror_mode": {
    "name": "ipython",
    "version": 2
   },
   "file_extension": ".py",
   "mimetype": "text/x-python",
   "name": "python",
   "nbconvert_exporter": "python",
   "pygments_lexer": "ipython2",
   "version": "2.7.6"
  }
 },
 "nbformat": 4,
 "nbformat_minor": 5
}
